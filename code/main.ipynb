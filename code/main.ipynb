{
 "cells": [
  {
   "cell_type": "code",
   "execution_count": 26,
   "outputs": [],
   "source": [
    "#Importing the necessary packages\n",
    "import numpy as np\n",
    "import pandas as pd\n",
    "import matplotlib.pyplot as plt"
   ],
   "metadata": {
    "collapsed": false,
    "pycharm": {
     "name": "#%%\n"
    }
   }
  },
  {
   "cell_type": "code",
   "execution_count": 27,
   "outputs": [],
   "source": [
    "#Reading the data from csv files\n",
    "mainData = pd.read_csv('../file/apple_products.csv')"
   ],
   "metadata": {
    "collapsed": false,
    "pycharm": {
     "name": "#%%\n"
    }
   }
  },
  {
   "cell_type": "code",
   "execution_count": 28,
   "outputs": [
    {
     "data": {
      "text/plain": "                               Product Name   \n0         APPLE iPhone 8 Plus (Gold, 64 GB)  \\\n1  APPLE iPhone 8 Plus (Space Grey, 256 GB)   \n2      APPLE iPhone 8 Plus (Silver, 256 GB)   \n3           APPLE iPhone 8 (Silver, 256 GB)   \n4             APPLE iPhone 8 (Gold, 256 GB)   \n\n                                         Product URL  Brand  Sale Price   \n0  https://www.flipkart.com/apple-iphone-8-plus-g...  Apple       49900  \\\n1  https://www.flipkart.com/apple-iphone-8-plus-s...  Apple       84900   \n2  https://www.flipkart.com/apple-iphone-8-plus-s...  Apple       84900   \n3  https://www.flipkart.com/apple-iphone-8-silver...  Apple       77000   \n4  https://www.flipkart.com/apple-iphone-8-gold-2...  Apple       77000   \n\n     Mrp  Discount Percentage  Number Of Ratings  Number Of Reviews   \n0  49900                    0               3431                356  \\\n1  84900                    0               3431                356   \n2  84900                    0               3431                356   \n3  77000                    0              11202                794   \n4  77000                    0              11202                794   \n\n                Upc  Star Rating   Ram  \n0  MOBEXRGV7EHHTGUH          4.6  2 GB  \n1  MOBEXRGVAC6TJT4F          4.6  2 GB  \n2  MOBEXRGVGETABXWZ          4.6  2 GB  \n3  MOBEXRGVMZWUHCBA          4.5  2 GB  \n4  MOBEXRGVPK7PFEJZ          4.5  2 GB  ",
      "text/html": "<div>\n<style scoped>\n    .dataframe tbody tr th:only-of-type {\n        vertical-align: middle;\n    }\n\n    .dataframe tbody tr th {\n        vertical-align: top;\n    }\n\n    .dataframe thead th {\n        text-align: right;\n    }\n</style>\n<table border=\"1\" class=\"dataframe\">\n  <thead>\n    <tr style=\"text-align: right;\">\n      <th></th>\n      <th>Product Name</th>\n      <th>Product URL</th>\n      <th>Brand</th>\n      <th>Sale Price</th>\n      <th>Mrp</th>\n      <th>Discount Percentage</th>\n      <th>Number Of Ratings</th>\n      <th>Number Of Reviews</th>\n      <th>Upc</th>\n      <th>Star Rating</th>\n      <th>Ram</th>\n    </tr>\n  </thead>\n  <tbody>\n    <tr>\n      <th>0</th>\n      <td>APPLE iPhone 8 Plus (Gold, 64 GB)</td>\n      <td>https://www.flipkart.com/apple-iphone-8-plus-g...</td>\n      <td>Apple</td>\n      <td>49900</td>\n      <td>49900</td>\n      <td>0</td>\n      <td>3431</td>\n      <td>356</td>\n      <td>MOBEXRGV7EHHTGUH</td>\n      <td>4.6</td>\n      <td>2 GB</td>\n    </tr>\n    <tr>\n      <th>1</th>\n      <td>APPLE iPhone 8 Plus (Space Grey, 256 GB)</td>\n      <td>https://www.flipkart.com/apple-iphone-8-plus-s...</td>\n      <td>Apple</td>\n      <td>84900</td>\n      <td>84900</td>\n      <td>0</td>\n      <td>3431</td>\n      <td>356</td>\n      <td>MOBEXRGVAC6TJT4F</td>\n      <td>4.6</td>\n      <td>2 GB</td>\n    </tr>\n    <tr>\n      <th>2</th>\n      <td>APPLE iPhone 8 Plus (Silver, 256 GB)</td>\n      <td>https://www.flipkart.com/apple-iphone-8-plus-s...</td>\n      <td>Apple</td>\n      <td>84900</td>\n      <td>84900</td>\n      <td>0</td>\n      <td>3431</td>\n      <td>356</td>\n      <td>MOBEXRGVGETABXWZ</td>\n      <td>4.6</td>\n      <td>2 GB</td>\n    </tr>\n    <tr>\n      <th>3</th>\n      <td>APPLE iPhone 8 (Silver, 256 GB)</td>\n      <td>https://www.flipkart.com/apple-iphone-8-silver...</td>\n      <td>Apple</td>\n      <td>77000</td>\n      <td>77000</td>\n      <td>0</td>\n      <td>11202</td>\n      <td>794</td>\n      <td>MOBEXRGVMZWUHCBA</td>\n      <td>4.5</td>\n      <td>2 GB</td>\n    </tr>\n    <tr>\n      <th>4</th>\n      <td>APPLE iPhone 8 (Gold, 256 GB)</td>\n      <td>https://www.flipkart.com/apple-iphone-8-gold-2...</td>\n      <td>Apple</td>\n      <td>77000</td>\n      <td>77000</td>\n      <td>0</td>\n      <td>11202</td>\n      <td>794</td>\n      <td>MOBEXRGVPK7PFEJZ</td>\n      <td>4.5</td>\n      <td>2 GB</td>\n    </tr>\n  </tbody>\n</table>\n</div>"
     },
     "execution_count": 28,
     "metadata": {},
     "output_type": "execute_result"
    }
   ],
   "source": [
    "#Geting the head data by using the head() function\n",
    "mainData.head()"
   ],
   "metadata": {
    "collapsed": false,
    "pycharm": {
     "name": "#%%\n"
    }
   }
  },
  {
   "cell_type": "code",
   "execution_count": 33,
   "outputs": [
    {
     "data": {
      "text/plain": "Product Name           0\nProduct URL            0\nBrand                  0\nSale Price             0\nMrp                    0\nDiscount Percentage    0\nNumber Of Ratings      0\nNumber Of Reviews      0\nUpc                    0\nStar Rating            0\nRam                    0\ndtype: int64"
     },
     "execution_count": 33,
     "metadata": {},
     "output_type": "execute_result"
    }
   ],
   "source": [
    "#Try to find how many values are null\n",
    "mainData.isnull().sum()"
   ],
   "metadata": {
    "collapsed": false,
    "pycharm": {
     "name": "#%%\n"
    }
   }
  },
  {
   "cell_type": "code",
   "execution_count": 35,
   "outputs": [
    {
     "data": {
      "text/plain": "          Sale Price            Mrp  Discount Percentage  Number Of Ratings   \ncount      62.000000      62.000000            62.000000          62.000000  \\\nmean    80073.887097   88058.064516             9.951613       22420.403226   \nstd     34310.446132   34728.825597             7.608079       33768.589550   \nmin     29999.000000   39900.000000             0.000000         542.000000   \n25%     49900.000000   54900.000000             6.000000         740.000000   \n50%     75900.000000   79900.000000            10.000000        2101.000000   \n75%    117100.000000  120950.000000            14.000000       43470.000000   \nmax    140900.000000  149900.000000            29.000000       95909.000000   \n\n       Number Of Reviews  Star Rating  \ncount          62.000000    62.000000  \nmean         1861.677419     4.575806  \nstd          2855.883830     0.059190  \nmin            42.000000     4.500000  \n25%            64.000000     4.500000  \n50%           180.000000     4.600000  \n75%          3331.000000     4.600000  \nmax          8161.000000     4.700000  ",
      "text/html": "<div>\n<style scoped>\n    .dataframe tbody tr th:only-of-type {\n        vertical-align: middle;\n    }\n\n    .dataframe tbody tr th {\n        vertical-align: top;\n    }\n\n    .dataframe thead th {\n        text-align: right;\n    }\n</style>\n<table border=\"1\" class=\"dataframe\">\n  <thead>\n    <tr style=\"text-align: right;\">\n      <th></th>\n      <th>Sale Price</th>\n      <th>Mrp</th>\n      <th>Discount Percentage</th>\n      <th>Number Of Ratings</th>\n      <th>Number Of Reviews</th>\n      <th>Star Rating</th>\n    </tr>\n  </thead>\n  <tbody>\n    <tr>\n      <th>count</th>\n      <td>62.000000</td>\n      <td>62.000000</td>\n      <td>62.000000</td>\n      <td>62.000000</td>\n      <td>62.000000</td>\n      <td>62.000000</td>\n    </tr>\n    <tr>\n      <th>mean</th>\n      <td>80073.887097</td>\n      <td>88058.064516</td>\n      <td>9.951613</td>\n      <td>22420.403226</td>\n      <td>1861.677419</td>\n      <td>4.575806</td>\n    </tr>\n    <tr>\n      <th>std</th>\n      <td>34310.446132</td>\n      <td>34728.825597</td>\n      <td>7.608079</td>\n      <td>33768.589550</td>\n      <td>2855.883830</td>\n      <td>0.059190</td>\n    </tr>\n    <tr>\n      <th>min</th>\n      <td>29999.000000</td>\n      <td>39900.000000</td>\n      <td>0.000000</td>\n      <td>542.000000</td>\n      <td>42.000000</td>\n      <td>4.500000</td>\n    </tr>\n    <tr>\n      <th>25%</th>\n      <td>49900.000000</td>\n      <td>54900.000000</td>\n      <td>6.000000</td>\n      <td>740.000000</td>\n      <td>64.000000</td>\n      <td>4.500000</td>\n    </tr>\n    <tr>\n      <th>50%</th>\n      <td>75900.000000</td>\n      <td>79900.000000</td>\n      <td>10.000000</td>\n      <td>2101.000000</td>\n      <td>180.000000</td>\n      <td>4.600000</td>\n    </tr>\n    <tr>\n      <th>75%</th>\n      <td>117100.000000</td>\n      <td>120950.000000</td>\n      <td>14.000000</td>\n      <td>43470.000000</td>\n      <td>3331.000000</td>\n      <td>4.600000</td>\n    </tr>\n    <tr>\n      <th>max</th>\n      <td>140900.000000</td>\n      <td>149900.000000</td>\n      <td>29.000000</td>\n      <td>95909.000000</td>\n      <td>8161.000000</td>\n      <td>4.700000</td>\n    </tr>\n  </tbody>\n</table>\n</div>"
     },
     "execution_count": 35,
     "metadata": {},
     "output_type": "execute_result"
    }
   ],
   "source": [
    "#discribing the data by using the describe() function\n",
    "mainData.describe()"
   ],
   "metadata": {
    "collapsed": false,
    "pycharm": {
     "name": "#%%\n"
    }
   }
  },
  {
   "cell_type": "code",
   "execution_count": 38,
   "outputs": [
    {
     "data": {
      "text/plain": "20     APPLE iPhone 11 Pro Max (Midnight Green, 64 GB)\n17         APPLE iPhone 11 Pro Max (Space Grey, 64 GB)\n16    APPLE iPhone 11 Pro Max (Midnight Green, 256 GB)\n15               APPLE iPhone 11 Pro Max (Gold, 64 GB)\n14              APPLE iPhone 11 Pro Max (Gold, 256 GB)\n0                    APPLE iPhone 8 Plus (Gold, 64 GB)\n29                     APPLE iPhone 12 (White, 128 GB)\n32          APPLE iPhone 12 Pro Max (Graphite, 128 GB)\n35                     APPLE iPhone 12 (Black, 128 GB)\n36                      APPLE iPhone 12 (Blue, 128 GB)\nName: Product Name, dtype: object"
     },
     "execution_count": 38,
     "metadata": {},
     "output_type": "execute_result"
    }
   ],
   "source": [
    "#Frist of all, let shot the data by the rating\n",
    "highRating = mainData.sort_values(by=['Star Rating'], ascending=False)\n",
    "#top 10 data\n",
    "highestRating=highRating.head(10)\n",
    "#top data name\n",
    "highestRating['Product Name']"
   ],
   "metadata": {
    "collapsed": false,
    "pycharm": {
     "name": "#%%\n"
    }
   }
  },
  {
   "cell_type": "code",
   "execution_count": null,
   "outputs": [],
   "source": [],
   "metadata": {
    "collapsed": false,
    "pycharm": {
     "name": "#%%\n"
    }
   }
  }
 ],
 "metadata": {
  "kernelspec": {
   "display_name": "Python 3",
   "language": "python",
   "name": "python3"
  },
  "language_info": {
   "codemirror_mode": {
    "name": "ipython",
    "version": 2
   },
   "file_extension": ".py",
   "mimetype": "text/x-python",
   "name": "python",
   "nbconvert_exporter": "python",
   "pygments_lexer": "ipython2",
   "version": "2.7.6"
  }
 },
 "nbformat": 4,
 "nbformat_minor": 0
}